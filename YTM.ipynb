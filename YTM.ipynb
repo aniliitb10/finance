{
 "cells": [
  {
   "cell_type": "code",
   "execution_count": 1,
   "id": "793475ce",
   "metadata": {},
   "outputs": [],
   "source": [
    "import numpy_financial as npf\n",
    "import numpy as np\n",
    "from bonds import utils"
   ]
  },
  {
   "cell_type": "code",
   "execution_count": 2,
   "id": "78e73821",
   "metadata": {},
   "outputs": [],
   "source": [
    "# Problem statement\n",
    "face_value = 100000\n",
    "market_price = 78101\n",
    "\n",
    "maturity = 4 # years\n",
    "n_coupons = 2 # every year\n",
    "terms = maturity * n_coupons\n",
    "\n",
    "coupon_rate_pct = 4.09\n",
    "coupon = (face_value * coupon_rate_pct / 100) / 2"
   ]
  },
  {
   "cell_type": "code",
   "execution_count": 3,
   "id": "dc40182c",
   "metadata": {},
   "outputs": [
    {
     "name": "stdout",
     "output_type": "stream",
     "text": [
      "Coupon: 2045.000\n",
      "payments: [-78101, 2045.0, 2045.0, 2045.0, 2045.0, 2045.0, 2045.0, 2045.0, 102045.0]\n",
      "ytm: 11.005\n"
     ]
    }
   ],
   "source": [
    "print(f'Coupon: {coupon:.3f}')\n",
    "payments = utils.get_bond_cash_flows(market_price, face_value, coupon_rate_pct, maturity, n_coupons)\n",
    "print(f'payments: {payments}')\n",
    "ytm = utils.ytm(market_price, face_value, coupon_rate_pct, maturity, n_coupons)\n",
    "print(f'ytm: {ytm:.3f}')"
   ]
  },
  {
   "cell_type": "code",
   "execution_count": 4,
   "id": "1929a2b8",
   "metadata": {},
   "outputs": [
    {
     "name": "stdout",
     "output_type": "stream",
     "text": [
      "discounted_payments: [1938.3446187496227, 1837.2517657875894, 1741.4313317861204, 1650.6083378433327, 1564.522146367669, 1482.9257131180345, 1405.5848782531975, 66480.33120809462],\n",
      "Sum of in flows: 78101.000\n"
     ]
    }
   ],
   "source": [
    "# print(f'Present value of all in-flows: {npf.pv(rate=ytm/200, nper=terms, pmt=coupon,fv=face_value):.3f}')\n",
    "discounted_payments = []\n",
    "for i in range(1, terms+1):\n",
    "    discounted_payments.append(payments[i] / np.power(1 + ytm/200, i))\n",
    "\n",
    "print(f'discounted_payments: {discounted_payments},\\nSum of in flows: {sum(discounted_payments):.3f}')"
   ]
  },
  {
   "cell_type": "code",
   "execution_count": 5,
   "id": "74d0d531",
   "metadata": {},
   "outputs": [
    {
     "name": "stdout",
     "output_type": "stream",
     "text": [
      "Final sum after investing 2045.000 every 6 months at 11.005% yearly is: 19882.323\n",
      "And with face value: 100000.000 combined, it becomes: 119882.323\n"
     ]
    }
   ],
   "source": [
    "# The plan is to invest the coupons till maturity at ytm\n",
    "# and compare the final sum with \n",
    "# npf.fv(rate=ytm/200, nper=maturity*n_coupons, pmt=-2045, pv=0) + face_value\n",
    "final_coupon_sum = 0\n",
    "for itr in range(terms):\n",
    "    final_coupon_sum += (coupon * np.power(1 + ytm/200, terms - itr - 1))\n",
    "\n",
    "\n",
    "print(f'Final sum after investing {coupon:.3f} every 6 months at {ytm:.3f}% yearly is: {final_coupon_sum:.3f}')\n",
    "print(f'And with face value: {face_value:.3f} combined, it becomes: {face_value + final_coupon_sum:.3f}')"
   ]
  },
  {
   "cell_type": "code",
   "execution_count": 6,
   "id": "de1b0f3f",
   "metadata": {},
   "outputs": [
    {
     "name": "stdout",
     "output_type": "stream",
     "text": [
      "Compounded sum of original: 78101.000 at 11.005% yearly is: 119882.323\n"
     ]
    }
   ],
   "source": [
    "compounded_sum = market_price * np.power(1+ ytm/200, terms)\n",
    "print(f'Compounded sum of original: {market_price:.3f} at {ytm:.3f}% yearly is: {compounded_sum:.3f}')"
   ]
  }
 ],
 "metadata": {
  "kernelspec": {
   "display_name": "Python 3 (ipykernel)",
   "language": "python",
   "name": "python3"
  },
  "language_info": {
   "codemirror_mode": {
    "name": "ipython",
    "version": 3
   },
   "file_extension": ".py",
   "mimetype": "text/x-python",
   "name": "python",
   "nbconvert_exporter": "python",
   "pygments_lexer": "ipython3",
   "version": "3.10.6"
  }
 },
 "nbformat": 4,
 "nbformat_minor": 5
}
